{
 "cells": [
  {
   "cell_type": "code",
   "execution_count": 1,
   "metadata": {},
   "outputs": [],
   "source": [
    "# import dependencies\n",
    "import requests\n",
    "import json\n",
    "import os\n",
    "from pprint import pprint \n",
    "import pandas as pd\n",
    "from sqlalchemy import create_engine\n",
    "import time"
   ]
  },
  {
   "cell_type": "markdown",
   "metadata": {},
   "source": [
    "# EXTRACT DATA"
   ]
  },
  {
   "cell_type": "code",
   "execution_count": 2,
   "metadata": {},
   "outputs": [],
   "source": [
    "# create query urls and response variables\n",
    "\n",
    "url = \"https://earthquake.usgs.gov/fdsnws/event/1/[query[format=geojson]]\"\n",
    "data_url = \"https://earthquake.usgs.gov/fdsnws/event/1/query?format=geojson&starttime=2014-01-01&endtime=2014-01-02&eventtype=earthquake\"\n",
    "output_path = os.path.join(\"/images/\")\n",
    "response = requests.get(data_url)\n",
    "data = response.json()"
   ]
  },
  {
   "cell_type": "code",
   "execution_count": 3,
   "metadata": {},
   "outputs": [],
   "source": [
    "# print data to see columns and features\n",
    "\n",
    "# pprint(data)"
   ]
  },
  {
   "cell_type": "code",
   "execution_count": 4,
   "metadata": {},
   "outputs": [],
   "source": [
    "# create list variables to contain data\n",
    "alert = []\n",
    "cdi = []\n",
    "code = []\n",
    "detail = []\n",
    "dmin = []\n",
    "mag = []\n",
    "magType = []\n",
    "ids = []\n",
    "felt = []\n",
    "gap = []\n",
    "mmi = []\n",
    "net = []\n",
    "nst = []\n",
    "place = []\n",
    "rms = []\n",
    "sig = []\n",
    "sources = []\n",
    "status = []\n",
    "sources = []\n",
    "Time = []\n",
    "title = []\n",
    "tsunami = []\n",
    "types = []\n",
    "tz = []\n",
    "updated = []\n",
    "url = []"
   ]
  },
  {
   "cell_type": "code",
   "execution_count": 5,
   "metadata": {},
   "outputs": [],
   "source": [
    "# append all lists\n",
    "for x in data[\"features\"]:\n",
    "    alert.append(x[\"properties\"][\"alert\"])\n",
    "    \n",
    "    cdi.append(x[\"properties\"][\"cdi\"])\n",
    "    \n",
    "    code.append(x[\"properties\"][\"code\"])\n",
    "    \n",
    "    detail.append(x[\"properties\"][\"detail\"])\n",
    "    \n",
    "    dmin.append(x[\"properties\"][\"dmin\"])\n",
    "\n",
    "    mag.append(x[\"properties\"][\"mag\"])\n",
    "\n",
    "    magType.append(x[\"properties\"][\"magType\"])\n",
    "\n",
    "    ids.append(x[\"properties\"][\"ids\"])\n",
    "\n",
    "    felt.append(x[\"properties\"][\"felt\"])\n",
    "    \n",
    "    gap.append(x[\"properties\"][\"gap\"])\n",
    "    \n",
    "    mmi.append(x[\"properties\"][\"mmi\"])\n",
    "    \n",
    "    net.append(x[\"properties\"][\"net\"])\n",
    "    \n",
    "    nst.append(x[\"properties\"][\"nst\"])\n",
    "    \n",
    "    place.append(x[\"properties\"][\"place\"])\n",
    "    \n",
    "    rms.append(x[\"properties\"][\"rms\"])\n",
    "    \n",
    "    sig.append(x[\"properties\"][\"sig\"])\n",
    "    \n",
    "    sources.append(x[\"properties\"][\"sources\"])\n",
    "    \n",
    "    status.append(x[\"properties\"][\"status\"])\n",
    "    \n",
    "    Time.append(x[\"properties\"][\"time\"])\n",
    "    \n",
    "    title.append(x[\"properties\"][\"title\"])\n",
    "    \n",
    "    tsunami.append(x[\"properties\"][\"tsunami\"])\n",
    "    \n",
    "    types.append(x[\"properties\"][\"type\"])\n",
    "    \n",
    "    tz.append(x[\"properties\"][\"tz\"])\n",
    "    \n",
    "    updated.append(x[\"properties\"][\"updated\"])\n",
    "    \n",
    "    url.append(x[\"properties\"][\"url\"])\n"
   ]
  },
  {
   "cell_type": "code",
   "execution_count": 6,
   "metadata": {},
   "outputs": [],
   "source": [
    "# sanity check - prints a few lists to ensure code ran\n",
    "\n",
    "# print(sources)"
   ]
  },
  {
   "cell_type": "code",
   "execution_count": 7,
   "metadata": {},
   "outputs": [],
   "source": [
    "# construct dataframes for each list in Pandas\n",
    "\n",
    "alert_df = pd.DataFrame({\"Alert\": alert})\n",
    "cdi_df = pd.DataFrame({\"CDI\": cdi})\n",
    "code_df = pd.DataFrame({\"Code\": code})\n",
    "detail_df = pd.DataFrame({\"Detail\": detail})\n",
    "dmin_df = pd.DataFrame({\"Depth\": dmin})\n",
    "mag_df = pd.DataFrame({\"Magnitude\":mag})\n",
    "magType_df = pd.DataFrame({\"Waveform\":magType})\n",
    "ids_df = pd.DataFrame({\"ID\":ids})\n",
    "felt_df = pd.DataFrame({\"Felt\":felt})\n",
    "gap_df = pd.DataFrame({\"Gap\":gap})\n",
    "mmi_df = pd.DataFrame({\"MMI\":mmi})\n",
    "net_df = pd.DataFrame({\"Net\":net})\n",
    "nst_df = pd.DataFrame({\"NST\":nst})\n",
    "place_df = pd.DataFrame({\"Place\":place})\n",
    "rms_df = pd.DataFrame({\"RMS\":rms})\n",
    "sig_df = pd.DataFrame({\"Sig\":sig})\n",
    "sources_df = pd.DataFrame({\"Sources\":sources})\n",
    "status_df = pd.DataFrame({\"Status\":status})\n",
    "time_df = pd.DataFrame({\"Time\":Time})\n",
    "title_df = pd.DataFrame({\"Title\":title})\n",
    "tsunami_df = pd.DataFrame({\"Tsunami\":tsunami})\n",
    "types_df = pd.DataFrame({\"Type\":types})\n",
    "tz_df = pd.DataFrame({\"TZ\":tz})\n",
    "updated_df = pd.DataFrame({\"Updated\":updated})\n",
    "url_df = pd.DataFrame({\"URL\":url})"
   ]
  },
  {
   "cell_type": "code",
   "execution_count": 8,
   "metadata": {},
   "outputs": [],
   "source": [
    "# sanity check prints - check dataFrames. \n",
    "\n",
    "# tsunami_df.head()"
   ]
  },
  {
   "cell_type": "code",
   "execution_count": 9,
   "metadata": {},
   "outputs": [],
   "source": [
    "# merges dataframes made above\n",
    "\n",
    "ses_df = pd.DataFrame(alert_df)\n",
    "ses_df = ses_df.merge(cdi_df, \"inner\", right_index=True, left_index=True)\n",
    "ses_df = ses_df.merge(code_df, \"inner\", right_index=True, left_index=True)\n",
    "ses_df = ses_df.merge(detail_df, \"inner\", right_index=True, left_index=True)\n",
    "ses_df = ses_df.merge(dmin_df, \"inner\", right_index=True, left_index=True)\n",
    "ses_df = ses_df.merge(mag_df, \"inner\", right_index=True, left_index=True)\n",
    "ses_df = ses_df.merge(magType_df, \"inner\", right_index=True, left_index=True)\n",
    "ses_df = ses_df.merge(ids_df, \"inner\", right_index=True, left_index=True)\n",
    "ses_df = ses_df.merge(felt_df, \"inner\", right_index=True, left_index=True)\n",
    "ses_df = ses_df.merge(gap_df, \"inner\", right_index=True, left_index=True)\n",
    "ses_df = ses_df.merge(mmi_df, \"inner\", right_index=True, left_index=True)\n",
    "ses_df = ses_df.merge(net_df, \"inner\", right_index=True, left_index=True)\n",
    "ses_df = ses_df.merge(nst_df, \"inner\", right_index=True, left_index=True)\n",
    "ses_df = ses_df.merge(rms_df, \"inner\", right_index=True, left_index=True)\n",
    "ses_df = ses_df.merge(place_df, \"inner\", right_index=True, left_index=True)\n",
    "ses_df = ses_df.merge(sig_df, \"inner\", right_index=True, left_index=True)\n",
    "ses_df = ses_df.merge(sources_df, \"inner\", right_index=True, left_index=True)\n",
    "ses_df = ses_df.merge(status_df, \"inner\", right_index=True, left_index=True)\n",
    "ses_df = ses_df.merge(time_df, \"inner\", right_index=True, left_index=True)\n",
    "ses_df = ses_df.merge(title_df, \"inner\", right_index=True, left_index=True)\n",
    "ses_df = ses_df.merge(tsunami_df, \"inner\", right_index=True, left_index=True)\n",
    "ses_df = ses_df.merge(types_df, \"inner\", right_index=True, left_index=True)\n",
    "ses_df = ses_df.merge(tz_df, \"inner\", right_index=True, left_index=True)\n",
    "ses_df = ses_df.merge(updated_df, \"inner\", right_index=True, left_index=True)\n",
    "ses_df = ses_df.merge(url_df, \"inner\", right_index=True, left_index=True)\n"
   ]
  },
  {
   "cell_type": "code",
   "execution_count": 10,
   "metadata": {
    "scrolled": true
   },
   "outputs": [
    {
     "data": {
      "text/html": [
       "<div>\n",
       "<style scoped>\n",
       "    .dataframe tbody tr th:only-of-type {\n",
       "        vertical-align: middle;\n",
       "    }\n",
       "\n",
       "    .dataframe tbody tr th {\n",
       "        vertical-align: top;\n",
       "    }\n",
       "\n",
       "    .dataframe thead th {\n",
       "        text-align: right;\n",
       "    }\n",
       "</style>\n",
       "<table border=\"1\" class=\"dataframe\">\n",
       "  <thead>\n",
       "    <tr style=\"text-align: right;\">\n",
       "      <th></th>\n",
       "      <th>Alert</th>\n",
       "      <th>CDI</th>\n",
       "      <th>Code</th>\n",
       "      <th>Detail</th>\n",
       "      <th>Depth</th>\n",
       "      <th>Magnitude</th>\n",
       "      <th>Waveform</th>\n",
       "      <th>ID</th>\n",
       "      <th>Felt</th>\n",
       "      <th>Gap</th>\n",
       "      <th>...</th>\n",
       "      <th>Sig</th>\n",
       "      <th>Sources</th>\n",
       "      <th>Status</th>\n",
       "      <th>Time</th>\n",
       "      <th>Title</th>\n",
       "      <th>Tsunami</th>\n",
       "      <th>Type</th>\n",
       "      <th>TZ</th>\n",
       "      <th>Updated</th>\n",
       "      <th>URL</th>\n",
       "    </tr>\n",
       "  </thead>\n",
       "  <tbody>\n",
       "    <tr>\n",
       "      <th>0</th>\n",
       "      <td>None</td>\n",
       "      <td>NaN</td>\n",
       "      <td>11408890</td>\n",
       "      <td>https://earthquake.usgs.gov/fdsnws/event/1/que...</td>\n",
       "      <td>0.06729</td>\n",
       "      <td>1.29</td>\n",
       "      <td>ml</td>\n",
       "      <td>,ci11408890,</td>\n",
       "      <td>NaN</td>\n",
       "      <td>51.0</td>\n",
       "      <td>...</td>\n",
       "      <td>26</td>\n",
       "      <td>,ci,</td>\n",
       "      <td>reviewed</td>\n",
       "      <td>1388620296020</td>\n",
       "      <td>M 1.3 - 10km SSW of Idyllwild, CA</td>\n",
       "      <td>0</td>\n",
       "      <td>earthquake</td>\n",
       "      <td>-480.0</td>\n",
       "      <td>1457728844428</td>\n",
       "      <td>https://earthquake.usgs.gov/earthquakes/eventp...</td>\n",
       "    </tr>\n",
       "    <tr>\n",
       "      <th>1</th>\n",
       "      <td>None</td>\n",
       "      <td>NaN</td>\n",
       "      <td>01421ig3u</td>\n",
       "      <td>https://earthquake.usgs.gov/fdsnws/event/1/que...</td>\n",
       "      <td>NaN</td>\n",
       "      <td>1.10</td>\n",
       "      <td>ml</td>\n",
       "      <td>,ak10992887,ak01421ig3u,</td>\n",
       "      <td>NaN</td>\n",
       "      <td>NaN</td>\n",
       "      <td>...</td>\n",
       "      <td>19</td>\n",
       "      <td>,ak,ak,</td>\n",
       "      <td>reviewed</td>\n",
       "      <td>1388620046501</td>\n",
       "      <td>M 1.1 - 117km NW of Talkeetna, Alaska</td>\n",
       "      <td>0</td>\n",
       "      <td>earthquake</td>\n",
       "      <td>-540.0</td>\n",
       "      <td>1558392330681</td>\n",
       "      <td>https://earthquake.usgs.gov/earthquakes/eventp...</td>\n",
       "    </tr>\n",
       "    <tr>\n",
       "      <th>2</th>\n",
       "      <td>None</td>\n",
       "      <td>NaN</td>\n",
       "      <td>01421i2zj</td>\n",
       "      <td>https://earthquake.usgs.gov/fdsnws/event/1/que...</td>\n",
       "      <td>NaN</td>\n",
       "      <td>1.20</td>\n",
       "      <td>ml</td>\n",
       "      <td>,ak10934318,ak01421i2zj,</td>\n",
       "      <td>NaN</td>\n",
       "      <td>NaN</td>\n",
       "      <td>...</td>\n",
       "      <td>22</td>\n",
       "      <td>,ak,ak,</td>\n",
       "      <td>reviewed</td>\n",
       "      <td>1388619956476</td>\n",
       "      <td>M 1.2 - 6km SSW of Big Lake, Alaska</td>\n",
       "      <td>0</td>\n",
       "      <td>earthquake</td>\n",
       "      <td>-540.0</td>\n",
       "      <td>1558392330249</td>\n",
       "      <td>https://earthquake.usgs.gov/earthquakes/eventp...</td>\n",
       "    </tr>\n",
       "    <tr>\n",
       "      <th>3</th>\n",
       "      <td>None</td>\n",
       "      <td>NaN</td>\n",
       "      <td>01421heui</td>\n",
       "      <td>https://earthquake.usgs.gov/fdsnws/event/1/que...</td>\n",
       "      <td>NaN</td>\n",
       "      <td>1.40</td>\n",
       "      <td>ml</td>\n",
       "      <td>,ak10992885,ak01421heui,</td>\n",
       "      <td>NaN</td>\n",
       "      <td>NaN</td>\n",
       "      <td>...</td>\n",
       "      <td>30</td>\n",
       "      <td>,ak,ak,</td>\n",
       "      <td>reviewed</td>\n",
       "      <td>1388619763623</td>\n",
       "      <td>M 1.4 - 63km NW of Talkeetna, Alaska</td>\n",
       "      <td>0</td>\n",
       "      <td>earthquake</td>\n",
       "      <td>-540.0</td>\n",
       "      <td>1558392329762</td>\n",
       "      <td>https://earthquake.usgs.gov/earthquakes/eventp...</td>\n",
       "    </tr>\n",
       "    <tr>\n",
       "      <th>4</th>\n",
       "      <td>None</td>\n",
       "      <td>NaN</td>\n",
       "      <td>c000mnnn</td>\n",
       "      <td>https://earthquake.usgs.gov/fdsnws/event/1/que...</td>\n",
       "      <td>NaN</td>\n",
       "      <td>4.00</td>\n",
       "      <td>ml</td>\n",
       "      <td>,usc000mnnn,</td>\n",
       "      <td>NaN</td>\n",
       "      <td>NaN</td>\n",
       "      <td>...</td>\n",
       "      <td>246</td>\n",
       "      <td>,us,</td>\n",
       "      <td>reviewed</td>\n",
       "      <td>1388619735000</td>\n",
       "      <td>M 4.0 - 27km WNW of Coquimbo, Chile</td>\n",
       "      <td>0</td>\n",
       "      <td>earthquake</td>\n",
       "      <td>-300.0</td>\n",
       "      <td>1394151954000</td>\n",
       "      <td>https://earthquake.usgs.gov/earthquakes/eventp...</td>\n",
       "    </tr>\n",
       "  </tbody>\n",
       "</table>\n",
       "<p>5 rows × 25 columns</p>\n",
       "</div>"
      ],
      "text/plain": [
       "  Alert  CDI       Code                                             Detail  \\\n",
       "0  None  NaN   11408890  https://earthquake.usgs.gov/fdsnws/event/1/que...   \n",
       "1  None  NaN  01421ig3u  https://earthquake.usgs.gov/fdsnws/event/1/que...   \n",
       "2  None  NaN  01421i2zj  https://earthquake.usgs.gov/fdsnws/event/1/que...   \n",
       "3  None  NaN  01421heui  https://earthquake.usgs.gov/fdsnws/event/1/que...   \n",
       "4  None  NaN   c000mnnn  https://earthquake.usgs.gov/fdsnws/event/1/que...   \n",
       "\n",
       "     Depth  Magnitude Waveform                        ID  Felt   Gap  ...  \\\n",
       "0  0.06729       1.29       ml              ,ci11408890,   NaN  51.0  ...   \n",
       "1      NaN       1.10       ml  ,ak10992887,ak01421ig3u,   NaN   NaN  ...   \n",
       "2      NaN       1.20       ml  ,ak10934318,ak01421i2zj,   NaN   NaN  ...   \n",
       "3      NaN       1.40       ml  ,ak10992885,ak01421heui,   NaN   NaN  ...   \n",
       "4      NaN       4.00       ml              ,usc000mnnn,   NaN   NaN  ...   \n",
       "\n",
       "   Sig  Sources    Status           Time  \\\n",
       "0   26     ,ci,  reviewed  1388620296020   \n",
       "1   19  ,ak,ak,  reviewed  1388620046501   \n",
       "2   22  ,ak,ak,  reviewed  1388619956476   \n",
       "3   30  ,ak,ak,  reviewed  1388619763623   \n",
       "4  246     ,us,  reviewed  1388619735000   \n",
       "\n",
       "                                   Title  Tsunami        Type     TZ  \\\n",
       "0      M 1.3 - 10km SSW of Idyllwild, CA        0  earthquake -480.0   \n",
       "1  M 1.1 - 117km NW of Talkeetna, Alaska        0  earthquake -540.0   \n",
       "2    M 1.2 - 6km SSW of Big Lake, Alaska        0  earthquake -540.0   \n",
       "3   M 1.4 - 63km NW of Talkeetna, Alaska        0  earthquake -540.0   \n",
       "4    M 4.0 - 27km WNW of Coquimbo, Chile        0  earthquake -300.0   \n",
       "\n",
       "         Updated                                                URL  \n",
       "0  1457728844428  https://earthquake.usgs.gov/earthquakes/eventp...  \n",
       "1  1558392330681  https://earthquake.usgs.gov/earthquakes/eventp...  \n",
       "2  1558392330249  https://earthquake.usgs.gov/earthquakes/eventp...  \n",
       "3  1558392329762  https://earthquake.usgs.gov/earthquakes/eventp...  \n",
       "4  1394151954000  https://earthquake.usgs.gov/earthquakes/eventp...  \n",
       "\n",
       "[5 rows x 25 columns]"
      ]
     },
     "execution_count": 10,
     "metadata": {},
     "output_type": "execute_result"
    }
   ],
   "source": [
    "# check final dataframe - big table\n",
    "\n",
    "ses_df.head()"
   ]
  },
  {
   "cell_type": "code",
   "execution_count": 11,
   "metadata": {},
   "outputs": [
    {
     "data": {
      "text/plain": [
       "Alert         object\n",
       "CDI          float64\n",
       "Code          object\n",
       "Detail        object\n",
       "Depth        float64\n",
       "Magnitude    float64\n",
       "Waveform      object\n",
       "ID            object\n",
       "Felt         float64\n",
       "Gap          float64\n",
       "MMI          float64\n",
       "Net           object\n",
       "NST          float64\n",
       "RMS          float64\n",
       "Place         object\n",
       "Sig            int64\n",
       "Sources       object\n",
       "Status        object\n",
       "Time           int64\n",
       "Title         object\n",
       "Tsunami        int64\n",
       "Type          object\n",
       "TZ           float64\n",
       "Updated        int64\n",
       "URL           object\n",
       "dtype: object"
      ]
     },
     "execution_count": 11,
     "metadata": {},
     "output_type": "execute_result"
    }
   ],
   "source": [
    "# get dtypes\n",
    "\n",
    "ses_df.dtypes"
   ]
  },
  {
   "cell_type": "markdown",
   "metadata": {},
   "source": [
    "### TRANSFORM"
   ]
  },
  {
   "cell_type": "code",
   "execution_count": 12,
   "metadata": {},
   "outputs": [],
   "source": [
    "#transform EQType df\n",
    "eq_errors = 0\n",
    "\n",
    "try:\n",
    "    eqtypes_col = [\"Type\", \"Depth\", \"Magnitude\"]\n",
    "    eqtype_df = ses_df[eqtypes_col].copy()\n",
    "\n",
    "except:\n",
    "    eq_errors+=1\n",
    "\n",
    "#write table to csv file\n",
    "eqtype_df.to_csv('../Resources/EQType_data.csv', index=False, header=True)\n",
    "\n",
    "#preview table\n",
    "eqtype_df.head()\n",
    "\n",
    "#row counts\n",
    "eqtype_count=eqtype_df.shape[0]"
   ]
  },
  {
   "cell_type": "code",
   "execution_count": 13,
   "metadata": {},
   "outputs": [
    {
     "data": {
      "text/plain": [
       "Type          object\n",
       "Depth        float64\n",
       "Magnitude    float64\n",
       "dtype: object"
      ]
     },
     "execution_count": 13,
     "metadata": {},
     "output_type": "execute_result"
    }
   ],
   "source": [
    "#observe data types\n",
    "eqtype_df.dtypes"
   ]
  },
  {
   "cell_type": "code",
   "execution_count": 14,
   "metadata": {},
   "outputs": [],
   "source": [
    "#transform instrument_data df\n",
    "instrument_errors = 0\n",
    "\n",
    "try:\n",
    "    instrument_cols = [\"MMI\", \"Depth\", \"Gap\", \"Net\", \"NST\", \"Place\", \"RMS\", \"Sig\", \"Sources\", \"Status\",\n",
    "                      \"Type\", \"Time\", \"URL\"]\n",
    "    instrument_df = ses_df[instrument_cols].copy()\n",
    "\n",
    "except:\n",
    "    instrument_errors+=1\n",
    "\n",
    "#write table to csv file\n",
    "instrument_df.to_csv('../Resources/instrument_data.csv', index=False, header=True)\n",
    "\n",
    "\n",
    "#preview table\n",
    "instrument_df.head()\n",
    "\n",
    "#row counts\n",
    "instrument_count=instrument_df.shape[0]"
   ]
  },
  {
   "cell_type": "code",
   "execution_count": 15,
   "metadata": {},
   "outputs": [
    {
     "data": {
      "text/plain": [
       "MMI        float64\n",
       "Depth      float64\n",
       "Gap        float64\n",
       "Net         object\n",
       "NST        float64\n",
       "Place       object\n",
       "RMS        float64\n",
       "Sig          int64\n",
       "Sources     object\n",
       "Status      object\n",
       "Type        object\n",
       "Time         int64\n",
       "URL         object\n",
       "dtype: object"
      ]
     },
     "execution_count": 15,
     "metadata": {},
     "output_type": "execute_result"
    }
   ],
   "source": [
    "#observe data types\n",
    "instrument_df.dtypes"
   ]
  },
  {
   "cell_type": "code",
   "execution_count": 16,
   "metadata": {},
   "outputs": [],
   "source": [
    "#transform tsunamiTable\n",
    "\n",
    "tsunami_errors = 0\n",
    "try:\n",
    "    tsunamitypes_col = [\"Tsunami\", \"Magnitude\", \"Waveform\", \"Depth\"]\n",
    "    tsunamitype_df = ses_df[tsunamitypes_col].copy()\n",
    "    \n",
    "    # Clean the data by setting the index\n",
    "    tsunamitype_df.set_index(\"id\", inplace=True)\n",
    "except:\n",
    "    tsunami_errors+=1\n",
    "\n",
    "#write table to csv file\n",
    "tsunamitype_df.to_csv('../Resources/tsunami_data.csv', index=False, header=True)\n",
    "    \n",
    "#preview table\n",
    "tsunamitype_df.head()\n",
    "\n",
    "#observe data types\n",
    "tsunamitype_df.dtypes\n",
    "\n",
    "#row counts\n",
    "tsunami_count=tsunamitype_df.shape[0]"
   ]
  },
  {
   "cell_type": "code",
   "execution_count": 17,
   "metadata": {},
   "outputs": [],
   "source": [
    "#transform location_data\n",
    "\n",
    "location_errors = 0\n",
    "\n",
    "try:\n",
    "    locationtypes_col = [\"Sources\", \"Depth\", \"Time\", \"TZ\"]\n",
    "    locationtype_df = ses_df[locationtypes_col].copy()\n",
    "    # Clean the data \n",
    "    locationtype_df[\"Sources\"] = locationtype_df[\"Sources\"].str.replace(\",\",\"/\")\n",
    "except:\n",
    "    location_errors+=1\n",
    "    \n",
    "#write table to csv file\n",
    "locationtype_df.to_csv('../Resources/location_data.csv', index=False, header=True)\n",
    "\n",
    "#preview table\n",
    "locationtype_df.head()\n",
    "\n",
    "#row counts\n",
    "location_count=locationtype_df.shape[0]"
   ]
  },
  {
   "cell_type": "code",
   "execution_count": 18,
   "metadata": {},
   "outputs": [
    {
     "data": {
      "text/plain": [
       "Sources     object\n",
       "Depth      float64\n",
       "Time         int64\n",
       "TZ         float64\n",
       "dtype: object"
      ]
     },
     "execution_count": 18,
     "metadata": {},
     "output_type": "execute_result"
    }
   ],
   "source": [
    "#observe data types\n",
    "locationtype_df.dtypes"
   ]
  },
  {
   "cell_type": "code",
   "execution_count": 19,
   "metadata": {},
   "outputs": [],
   "source": [
    "# transform population_data\n",
    "\n",
    "population_errors = 0\n",
    "\n",
    "try:\n",
    "    population_col = [\"Felt\", \"Detail\", \"CDI\", \"Sig\"]\n",
    "    population_df = ses_df[population_col].copy()\n",
    "    \n",
    "    # Clean the data setting the index\n",
    "    \n",
    "except:\n",
    "    population_errors+=1\n",
    "\n",
    "#write table to csv file\n",
    "population_df.to_csv('../Resources/populationimpact_data.csv', index=False, header=True)\n",
    "    \n",
    "#preview table\n",
    "population_df.head()\n",
    "\n",
    "#row counts\n",
    "population_count=population_df.shape[0]"
   ]
  },
  {
   "cell_type": "code",
   "execution_count": 20,
   "metadata": {},
   "outputs": [
    {
     "data": {
      "text/plain": [
       "Felt      float64\n",
       "Detail     object\n",
       "CDI       float64\n",
       "Sig         int64\n",
       "dtype: object"
      ]
     },
     "execution_count": 20,
     "metadata": {},
     "output_type": "execute_result"
    }
   ],
   "source": [
    "#observe data types\n",
    "population_df.dtypes"
   ]
  },
  {
   "cell_type": "code",
   "execution_count": 21,
   "metadata": {},
   "outputs": [],
   "source": [
    "# transform earthquakeRelated\n",
    "earthquake_errors = 0\n",
    "\n",
    "try:\n",
    "    earthquake_col = [\"ID\", \"Magnitude\", \"Waveform\", \"Tsunami\", \"Type\", \"Sources\", \"Felt\", \"MMI\", \"Title\", \"URL\"]\n",
    "    earthquake_df = ses_df[earthquake_col].copy()\n",
    "    \n",
    "    # Clean the data \n",
    "    earthquake_df[\"ID\"] = earthquake_df[\"ID\"].str.replace(\",\",\"\")\n",
    "    earthquake_df[\"Sources\"] = earthquake_df[\"Sources\"].str.replace(\",\",\"/\")\n",
    "    \n",
    "except:\n",
    "    earthquake_errors+=1\n",
    "    print(earthquake_errors)\n",
    "\n",
    "#write table to csv file\n",
    "earthquake_df.to_csv('../Resources/earthquake_data.csv', index=False, header=True)\n",
    "    \n",
    "#preview table\n",
    "earthquake_df.head()\n",
    "\n",
    "#row counts\n",
    "earthquake_count=earthquake_df.shape[0]"
   ]
  },
  {
   "cell_type": "code",
   "execution_count": 22,
   "metadata": {},
   "outputs": [
    {
     "data": {
      "text/plain": [
       "ID            object\n",
       "Magnitude    float64\n",
       "Waveform      object\n",
       "Tsunami        int64\n",
       "Type          object\n",
       "Sources       object\n",
       "Felt         float64\n",
       "MMI          float64\n",
       "Title         object\n",
       "URL           object\n",
       "dtype: object"
      ]
     },
     "execution_count": 22,
     "metadata": {},
     "output_type": "execute_result"
    }
   ],
   "source": [
    "#observe data types\n",
    "earthquake_df.dtypes"
   ]
  },
  {
   "cell_type": "code",
   "execution_count": 23,
   "metadata": {},
   "outputs": [],
   "source": [
    "#create database connection\n",
    "connection_string = \"postgres:postgres@localhost:5432/earthquake_db\"\n",
    "engine = create_engine(f'postgresql://{connection_string}')"
   ]
  },
  {
   "cell_type": "code",
   "execution_count": null,
   "metadata": {},
   "outputs": [
    {
     "data": {
      "text/plain": [
       "['location_data',\n",
       " 'eqtype',\n",
       " 'earthquake_related',\n",
       " 'tsunami_data',\n",
       " 'population_impact',\n",
       " 'instrument_data']"
      ]
     },
     "execution_count": 24,
     "metadata": {},
     "output_type": "execute_result"
    }
   ],
   "source": [
    "# Confirm tables\n",
    "engine.table_names()"
   ]
  },
  {
   "cell_type": "markdown",
   "metadata": {},
   "source": [
    "### LOAD DATAFRAMES"
   ]
  },
  {
   "cell_type": "code",
   "execution_count": null,
   "metadata": {},
   "outputs": [],
   "source": [
    "#create start time variable (EQ TYPE)\n",
    "eqtype_st = time.time()\n",
    "\n",
    "#load df into sql\n",
    "eqtype_df.to_sql(name='eqtype', con=engine, if_exists='replace', index=False)\n",
    "\n",
    "#calculate time\n",
    "eqtype_et=time.time()-eqtype_st\n"
   ]
  },
  {
   "cell_type": "code",
   "execution_count": null,
   "metadata": {},
   "outputs": [],
   "source": [
    "#create start time variable (EARTHQUAKE RELATED)\n",
    "earthquake_st = time.time()\n",
    "\n",
    "#load df into sql\n",
    "earthquake_df.to_sql(name='earthquake_related', con=engine, if_exists='replace', index=False)\n",
    "\n",
    "#calculate time\n",
    "earthquake_et = time.time()-earthquake_st"
   ]
  },
  {
   "cell_type": "code",
   "execution_count": null,
   "metadata": {},
   "outputs": [],
   "source": [
    "#create start time variable (TSUNAMI)\n",
    "tsunami_st = time.time()\n",
    "\n",
    "#load df into sql\n",
    "tsunamitype_df.to_sql(name='tsunami_data', con=engine, if_exists='replace', index=False)\n",
    "\n",
    "#calculate time\n",
    "tsunami_et = time.time()-tsunami_st"
   ]
  },
  {
   "cell_type": "code",
   "execution_count": null,
   "metadata": {},
   "outputs": [],
   "source": [
    "#create start time variable (LOCATION)\n",
    "location_st = time.time()\n",
    "\n",
    "#load df into sql\n",
    "locationtype_df.to_sql(name='location_data', con=engine, if_exists='replace', index=False)\n",
    "\n",
    "#calculate time\n",
    "location_et =time.time()-location_st"
   ]
  },
  {
   "cell_type": "code",
   "execution_count": null,
   "metadata": {},
   "outputs": [],
   "source": [
    "#create start time variable (POPULATION IMPACT)\n",
    "population_st = time.time()\n",
    "\n",
    "#load df into sql\n",
    "population_df.to_sql(name='population_impact', con=engine, if_exists='replace', index=False)\n",
    "\n",
    "#calculate time\n",
    "population_et =time.time()-population_st"
   ]
  },
  {
   "cell_type": "code",
   "execution_count": null,
   "metadata": {},
   "outputs": [],
   "source": [
    "#create start time variable (INSTRUMENT)\n",
    "instrument_st = time.time()\n",
    "\n",
    "#load df into sql\n",
    "population_df.to_sql(name='instrument_data', con=engine, if_exists='replace', index=False)\n",
    "\n",
    "#calculate time\n",
    "instrument_et=time.time()-instrument_st"
   ]
  },
  {
   "cell_type": "code",
   "execution_count": null,
   "metadata": {
    "scrolled": true
   },
   "outputs": [],
   "source": [
    "etl_report=pd.DataFrame({'domain' : ['earthquake_related', 'eqtype', 'tsunami_data', 'location_data', 'population_impact', 'instrument_data'], 'row_counts' : [earthquake_count, eqtype_count, tsunami_count, location_count, population_count, instrument_count], 'processing_time':[str(round(earthquake_et,2)) + ' seconds', str(round(eqtype_et,2)) + ' seconds', str(round(tsunami_et,2)) + ' seconds', str(round(location_et,2)) + 'seconds', str(round(population_et,2)) + ' seconds', str(round(instrument_et,2)) + ' seconds'], 'error_count':[earthquake_errors, eq_errors, tsunami_errors, location_errors, population_errors, instrument_errors]})"
   ]
  },
  {
   "cell_type": "code",
   "execution_count": null,
   "metadata": {},
   "outputs": [],
   "source": [
    "etl_report.to_html('etl_report.html',index=False)"
   ]
  },
  {
   "cell_type": "code",
   "execution_count": null,
   "metadata": {},
   "outputs": [],
   "source": []
  }
 ],
 "metadata": {
  "kernelspec": {
   "display_name": "Python 3",
   "language": "python",
   "name": "python3"
  },
  "language_info": {
   "codemirror_mode": {
    "name": "ipython",
    "version": 3
   },
   "file_extension": ".py",
   "mimetype": "text/x-python",
   "name": "python",
   "nbconvert_exporter": "python",
   "pygments_lexer": "ipython3",
   "version": "3.8.5"
  }
 },
 "nbformat": 4,
 "nbformat_minor": 4
}
